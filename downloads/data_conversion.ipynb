{
 "cells": [
  {
   "cell_type": "code",
   "execution_count": null,
   "id": "fb1c3e0e-03d1-434a-ab4b-f14ba96cf381",
   "metadata": {},
   "outputs": [],
   "source": [
    "import pyarrow.csv as pv\n",
    "import pyarrow.parquet as pq\n",
    "import pandas as pd\n",
    "import os"
   ]
  },
  {
   "cell_type": "code",
   "execution_count": null,
   "id": "f44c591e",
   "metadata": {},
   "outputs": [],
   "source": [
    "\n",
    "import requests\n",
    "from bs4 import BeautifulSoup\n"
   ]
  },
  {
   "cell_type": "code",
   "execution_count": null,
   "id": "b12d792a",
   "metadata": {},
   "outputs": [],
   "source": [
    "file_list = []\n",
    "url_base = 'https://www.irs.gov/downloads/irs-soi?page='\n",
    "for i in range(460):\n",
    "    page = requests.get(f'{url_base}{i}')\n",
    "    soup = BeautifulSoup(page.content, 'html.parser')\n",
    "    rs = soup.find_all(headers='view-uri-table-column')\n",
    "    file_list += [r.text for r in rs]"
   ]
  },
  {
   "cell_type": "code",
   "execution_count": null,
   "id": "bc484c34",
   "metadata": {},
   "outputs": [],
   "source": [
    "https://www.irs.gov/pub/irs-soi/21eoextract990pf.\n",
    "https://www.irs.gov/pub/irs-soi/16eofinextract990pf.dat"
   ]
  },
  {
   "cell_type": "code",
   "execution_count": null,
   "id": "d63cd316",
   "metadata": {},
   "outputs": [],
   "source": [
    "for f in file_list:\n",
    "    if 'extract' in f:\n",
    "        print(f)"
   ]
  },
  {
   "cell_type": "code",
   "execution_count": null,
   "id": "9319fed6",
   "metadata": {},
   "outputs": [],
   "source": [
    "def ismixed(a):\n",
    "    try:\n",
    "        max(a)\n",
    "        return False\n",
    "    except TypeError as e: # we take this to imply mixed type\n",
    "        msg, fst, and_, snd = str(e).rsplit(' ', 3)\n",
    "        assert msg==\"'>' not supported between instances of\"\n",
    "        assert and_==\"and\"\n",
    "        assert fst!=snd\n",
    "        return True\n",
    "    except ValueError as e: # catch empty arrays\n",
    "        assert str(e)==\"max() arg is an empty sequence\"\n",
    "        return False"
   ]
  },
  {
   "cell_type": "code",
   "execution_count": null,
   "id": "7b1f0587-b0d1-4d66-92e9-73101fec4a74",
   "metadata": {},
   "outputs": [],
   "source": [
    "dirs = [\n",
    "    'IRS',\n",
    "    'NCCS',\n",
    "]\n",
    "\n",
    "f_exts = [\n",
    "    'csv',\n",
    "    'xlsx',\n",
    "    'dat',\n",
    "    'txt',\n",
    "    'parquet'\n",
    "]\n",
    "\n",
    "for d in dirs:\n",
    "    content = os.listdir(f'./{d}')\n",
    "    files = {}\n",
    "    for f_ext in f_exts:\n",
    "        files[f_ext] = [os.path.splitext(c)[0] for c in content if c.endswith(f'.{f_ext}')]\n",
    "    for f_csv in files['csv']:\n",
    "        if f_csv not in files['parquet']:\n",
    "            print(f'loading {f_csv}.csv')\n",
    "            table = pv.read_csv(f'./{d}/{f_csv}.csv')\n",
    "            print(f'saving {f_csv}.parquet')\n",
    "            pq.write_table(table, f'./{d}/{f_csv}.parquet')\n",
    "    for f_xlsx in files['xlsx']:\n",
    "        if f_xlsx not in files['parquet']:\n",
    "            print(f'loading {f_xlsx}.xlsx')\n",
    "            df = pd.read_excel(f'./{d}/{f_xlsx}.xlsx')\n",
    "            for c in df.columns:\n",
    "                if ismixed(df[c]):\n",
    "                    print(f'{c} is mixed type.  Converting to str')\n",
    "                    df[c] = df[c].astype(str)\n",
    "            print(f'saving {f_xlsx}.parquet')\n",
    "            try:\n",
    "                df.to_parquet(f'./{d}/{f_xlsx}.parquet')\n",
    "            except:\n",
    "                print(f'saving {f_xlsx}.parquet failed')\n",
    "    for f_dat in files['dat']:\n",
    "        if f_dat not in files['parquet']:\n",
    "            with open(f'./{d}/{f_dat}.dat') as f:\n",
    "                first_line = '\\n'\n",
    "                while first_line == '\\n' and first_line != '':\n",
    "                    first_line = f.readline()\n",
    "            if '|' in first_line:\n",
    "                delim = '|'\n",
    "            elif ',' in first_line:\n",
    "                delim = ','\n",
    "            elif ' ' in first_line:\n",
    "                delim = ' '\n",
    "            else:\n",
    "                print(f'unable to determine delimiter from {first_line}')\n",
    "            print(f'loading {f_dat}.dat')\n",
    "            df = pd.read_csv(f'./{d}/{f_dat}.dat', sep=delim)\n",
    "            print(f'saving {f_dat}.parquet')\n",
    "            df.to_parquet(f'./{d}/{f_dat}.parquet')\n",
    "    for f_txt in files['txt']:\n",
    "        if f_txt not in files['parquet']:\n",
    "            with open(f'./{d}/{f_txt}.txt') as f:\n",
    "                first_line = '\\n'\n",
    "                while first_line == '\\n' and first_line != '':\n",
    "                    first_line = f.readline()\n",
    "            if '|' in first_line:\n",
    "                delim = '|'\n",
    "            elif ',' in first_line:\n",
    "                delim = ','\n",
    "            elif ' ' in first_line:\n",
    "                delim = ' '\n",
    "            else:\n",
    "                print(f'unable to determine delimiter from {first_line}')\n",
    "            print(f'loading {f_txt}.txt')\n",
    "            df = pd.read_csv(f'./{d}/{f_txt}.txt', sep=delim)\n",
    "            print(f'saving {f_txt}.parquet')\n",
    "            df.to_parquet(f'./{d}/{f_txt}.parquet')\n",
    "        "
   ]
  },
  {
   "cell_type": "code",
   "execution_count": null,
   "id": "3c51cb88-120c-463a-9d59-d617904c2d5c",
   "metadata": {
    "collapsed": true,
    "jupyter": {
     "outputs_hidden": true
    },
    "tags": []
   },
   "outputs": [],
   "source": [
    "files"
   ]
  },
  {
   "cell_type": "code",
   "execution_count": null,
   "id": "c7c75dc7-7347-4979-b939-95f21313d5f5",
   "metadata": {},
   "outputs": [],
   "source": [
    "df = pd.read_csv('./IRS\\data-download-epostcard.txt',\n",
    "                         sep='|',\n",
    "                         # on_bad_lines='skip',\n",
    "                         usecols=[0, 1],\n",
    "                         names=['EIN', 'EPOSTCARD'],\n",
    "                         dtype='str')"
   ]
  },
  {
   "cell_type": "code",
   "execution_count": null,
   "id": "a45df586-aac4-4e0c-894e-7d66b069a816",
   "metadata": {},
   "outputs": [],
   "source": [
    "df.index"
   ]
  },
  {
   "cell_type": "code",
   "execution_count": null,
   "id": "1c97981d-47a7-40ea-8d2b-66d25ef575ac",
   "metadata": {},
   "outputs": [],
   "source": [
    "with open('./IRS\\data-download-epostcard.txt') as f:\n",
    "    first_line = '\\n'\n",
    "    while first_line == '\\n' and first_line != '':\n",
    "        first_line = f.readline()"
   ]
  },
  {
   "cell_type": "code",
   "execution_count": null,
   "id": "afcebec9-ae0b-4193-8fe2-5dd9963f4500",
   "metadata": {},
   "outputs": [],
   "source": [
    "'|' in first_line"
   ]
  },
  {
   "cell_type": "code",
   "execution_count": null,
   "id": "e662dcfa-a894-45d0-a95c-a6dad6a30867",
   "metadata": {},
   "outputs": [],
   "source": [
    "path = './NCCS'\n",
    "files = os.listdir(path)\n",
    "prefix = ['coreco.', 'nccs.']\n",
    "for f in files:\n",
    "    for p in prefix:\n",
    "        if f.startswith(p):\n",
    "            os.rename(f'{path}/{f}', f'{path}/{f.removeprefix(p)}')"
   ]
  },
  {
   "cell_type": "code",
   "execution_count": null,
   "id": "4bc287bc-32dd-46cc-8141-633dec7ced9a",
   "metadata": {},
   "outputs": [],
   "source": [
    "file = './IRS/py14_EZ.dat'"
   ]
  },
  {
   "cell_type": "code",
   "execution_count": null,
   "id": "e11b65bc-6269-4267-bd7e-e48a4e6020cc",
   "metadata": {},
   "outputs": [],
   "source": [
    "df = pd.read_csv(file, sep=' ')"
   ]
  },
  {
   "cell_type": "code",
   "execution_count": null,
   "id": "87858012-cdd3-44f3-974b-e9f2ab15211d",
   "metadata": {},
   "outputs": [],
   "source": [
    "df"
   ]
  },
  {
   "cell_type": "code",
   "execution_count": null,
   "id": "6dffa9ae-f431-4568-9fed-d65d27ce74a1",
   "metadata": {},
   "outputs": [],
   "source": []
  }
 ],
 "metadata": {
  "kernelspec": {
   "display_name": "Python 3.9.15 ('base')",
   "language": "python",
   "name": "python3"
  },
  "language_info": {
   "codemirror_mode": {
    "name": "ipython",
    "version": 3
   },
   "file_extension": ".py",
   "mimetype": "text/x-python",
   "name": "python",
   "nbconvert_exporter": "python",
   "pygments_lexer": "ipython3",
   "version": "3.9.15"
  },
  "vscode": {
   "interpreter": {
    "hash": "b2f3c4b3e9a3b0db112e9a2ecd8896a3c596e0b6f915602c33225bb2dc095999"
   }
  }
 },
 "nbformat": 4,
 "nbformat_minor": 5
}
